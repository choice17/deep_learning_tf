{
 "cells": [
  {
   "cell_type": "markdown",
   "metadata": {},
   "source": [
    "## train the neural network graph\n",
    "\"\"\"\n",
    "for training mnist data demo\n",
    "\"\"\"\n"
   ]
  },
  {
   "cell_type": "code",
   "execution_count": 424,
   "metadata": {},
   "outputs": [
    {
     "name": "stderr",
     "output_type": "stream",
     "text": [
      "C:\\Users\\takchoi\\Anaconda3\\lib\\site-packages\\h5py\\__init__.py:36: FutureWarning: Conversion of the second argument of issubdtype from `float` to `np.floating` is deprecated. In future, it will be treated as `np.float64 == np.dtype(float).type`.\n",
      "  from ._conv import register_converters as _register_converters\n"
     ]
    }
   ],
   "source": [
    "import sklearn\n",
    "import tensorflow as tf"
   ]
  },
  {
   "cell_type": "code",
   "execution_count": 429,
   "metadata": {},
   "outputs": [
    {
     "data": {
      "text/plain": [
       "'C:\\\\Users\\\\takchoi\\\\Desktop\\\\workspace\\\\deeplearning_tf\\\\deeplearning_tf'"
      ]
     },
     "execution_count": 429,
     "metadata": {},
     "output_type": "execute_result"
    }
   ],
   "source": [
    "os.path.dirname(os.getcwd())"
   ]
  },
  {
   "cell_type": "code",
   "execution_count": 490,
   "metadata": {
    "scrolled": true
   },
   "outputs": [],
   "source": [
    "import sys\n",
    "import os\n",
    "sys.path.insert(0,os.path.dirname(os.getcwd()))\n",
    "import layer.layers as layers"
   ]
  },
  {
   "cell_type": "code",
   "execution_count": 491,
   "metadata": {},
   "outputs": [
    {
     "ename": "AttributeError",
     "evalue": "module 'config' has no attribute 'mnist'",
     "output_type": "error",
     "traceback": [
      "\u001b[1;31m---------------------------------------------------------------------------\u001b[0m",
      "\u001b[1;31mAttributeError\u001b[0m                            Traceback (most recent call last)",
      "\u001b[1;32m<ipython-input-491-f56dd8386c14>\u001b[0m in \u001b[0;36m<module>\u001b[1;34m()\u001b[0m\n\u001b[1;32m----> 1\u001b[1;33m \u001b[1;32mimport\u001b[0m \u001b[0mconfig\u001b[0m\u001b[1;33m.\u001b[0m\u001b[0mmnist\u001b[0m\u001b[1;33m\u001b[0m\u001b[0m\n\u001b[0m",
      "\u001b[1;32m~\\Desktop\\workspace\\deeplearning_tf\\deeplearning_tf\\config\\mnist.py\u001b[0m in \u001b[0;36m<module>\u001b[1;34m()\u001b[0m\n\u001b[0;32m      5\u001b[0m \u001b[0msys\u001b[0m\u001b[1;33m.\u001b[0m\u001b[0mpath\u001b[0m\u001b[1;33m.\u001b[0m\u001b[0minsert\u001b[0m\u001b[1;33m(\u001b[0m\u001b[1;36m0\u001b[0m\u001b[1;33m,\u001b[0m\u001b[0mos\u001b[0m\u001b[1;33m.\u001b[0m\u001b[0mpath\u001b[0m\u001b[1;33m.\u001b[0m\u001b[0mdirname\u001b[0m\u001b[1;33m(\u001b[0m\u001b[0mos\u001b[0m\u001b[1;33m.\u001b[0m\u001b[0mgetcwd\u001b[0m\u001b[1;33m(\u001b[0m\u001b[1;33m)\u001b[0m\u001b[1;33m)\u001b[0m\u001b[1;33m)\u001b[0m\u001b[1;33m\u001b[0m\u001b[0m\n\u001b[0;32m      6\u001b[0m \u001b[1;32mimport\u001b[0m \u001b[0mlayer\u001b[0m\u001b[1;33m.\u001b[0m\u001b[0mlayers\u001b[0m \u001b[1;32mas\u001b[0m \u001b[0mlayers\u001b[0m\u001b[1;33m\u001b[0m\u001b[0m\n\u001b[1;32m----> 7\u001b[1;33m \u001b[1;32mimport\u001b[0m \u001b[0mconfig\u001b[0m\u001b[1;33m.\u001b[0m\u001b[0mtfgraph\u001b[0m \u001b[1;32mas\u001b[0m \u001b[0mtfg\u001b[0m\u001b[1;33m\u001b[0m\u001b[0m\n\u001b[0m\u001b[0;32m      8\u001b[0m \u001b[1;33m\u001b[0m\u001b[0m\n\u001b[0;32m      9\u001b[0m \u001b[1;33m\u001b[0m\u001b[0m\n",
      "\u001b[1;32m~\\Desktop\\workspace\\deeplearning_tf\\deeplearning_tf\\config\\tfgraph.py\u001b[0m in \u001b[0;36m<module>\u001b[1;34m()\u001b[0m\n\u001b[0;32m      4\u001b[0m \u001b[1;32mimport\u001b[0m \u001b[0mos\u001b[0m\u001b[1;33m\u001b[0m\u001b[0m\n\u001b[0;32m      5\u001b[0m \u001b[0msys\u001b[0m\u001b[1;33m.\u001b[0m\u001b[0mpath\u001b[0m\u001b[1;33m.\u001b[0m\u001b[0minsert\u001b[0m\u001b[1;33m(\u001b[0m\u001b[1;36m0\u001b[0m\u001b[1;33m,\u001b[0m\u001b[0mos\u001b[0m\u001b[1;33m.\u001b[0m\u001b[0mpath\u001b[0m\u001b[1;33m.\u001b[0m\u001b[0mdirname\u001b[0m\u001b[1;33m(\u001b[0m\u001b[0mos\u001b[0m\u001b[1;33m.\u001b[0m\u001b[0mgetcwd\u001b[0m\u001b[1;33m(\u001b[0m\u001b[1;33m)\u001b[0m\u001b[1;33m)\u001b[0m\u001b[1;33m)\u001b[0m\u001b[1;33m\u001b[0m\u001b[0m\n\u001b[1;32m----> 6\u001b[1;33m \u001b[1;32mimport\u001b[0m \u001b[0mconfig\u001b[0m\u001b[1;33m.\u001b[0m\u001b[0mmnist\u001b[0m \u001b[1;32mas\u001b[0m \u001b[0mmnist\u001b[0m\u001b[1;33m\u001b[0m\u001b[0m\n\u001b[0m\u001b[0;32m      7\u001b[0m \u001b[1;32mimport\u001b[0m \u001b[0mlayer\u001b[0m\u001b[1;33m.\u001b[0m\u001b[0mlayers\u001b[0m \u001b[1;32mas\u001b[0m \u001b[0mlayers\u001b[0m\u001b[1;33m\u001b[0m\u001b[0m\n\u001b[0;32m      8\u001b[0m \u001b[1;33m\u001b[0m\u001b[0m\n",
      "\u001b[1;31mAttributeError\u001b[0m: module 'config' has no attribute 'mnist'"
     ]
    }
   ],
   "source": [
    "import config.mnist"
   ]
  },
  {
   "cell_type": "code",
   "execution_count": 485,
   "metadata": {},
   "outputs": [],
   "source": [
    "?config"
   ]
  },
  {
   "cell_type": "code",
   "execution_count": 486,
   "metadata": {},
   "outputs": [
    {
     "ename": "ModuleNotFoundError",
     "evalue": "No module named 'tfgraph'",
     "output_type": "error",
     "traceback": [
      "\u001b[1;31m---------------------------------------------------------------------------\u001b[0m",
      "\u001b[1;31mModuleNotFoundError\u001b[0m                       Traceback (most recent call last)",
      "\u001b[1;32m<ipython-input-486-1775ced0b148>\u001b[0m in \u001b[0;36m<module>\u001b[1;34m()\u001b[0m\n\u001b[1;32m----> 1\u001b[1;33m \u001b[1;32mimport\u001b[0m \u001b[0mtfgraph\u001b[0m\u001b[1;33m\u001b[0m\u001b[0m\n\u001b[0m",
      "\u001b[1;31mModuleNotFoundError\u001b[0m: No module named 'tfgraph'"
     ]
    }
   ],
   "source": [
    "import tfgraph"
   ]
  },
  {
   "cell_type": "code",
   "execution_count": 20,
   "metadata": {},
   "outputs": [
    {
     "ename": "AttributeError",
     "evalue": "module 'deeplearning_tf.config' has no attribute 'mnist'",
     "output_type": "error",
     "traceback": [
      "\u001b[1;31m---------------------------------------------------------------------------\u001b[0m",
      "\u001b[1;31mAttributeError\u001b[0m                            Traceback (most recent call last)",
      "\u001b[1;32m<ipython-input-20-c975318ced8d>\u001b[0m in \u001b[0;36m<module>\u001b[1;34m()\u001b[0m\n\u001b[0;32m      1\u001b[0m \u001b[0mname\u001b[0m \u001b[1;33m=\u001b[0m \u001b[1;34m'df_mnist'\u001b[0m\u001b[1;33m\u001b[0m\u001b[0m\n\u001b[1;32m----> 2\u001b[1;33m \u001b[0mmnist_graph\u001b[0m \u001b[1;33m=\u001b[0m \u001b[0mdfconfig\u001b[0m\u001b[1;33m.\u001b[0m\u001b[0mmnist\u001b[0m\u001b[1;33m.\u001b[0m\u001b[0mmnist\u001b[0m\u001b[1;33m(\u001b[0m\u001b[1;33m)\u001b[0m\u001b[1;33m\u001b[0m\u001b[0m\n\u001b[0m\u001b[0;32m      3\u001b[0m \u001b[1;31m# instance of nn_class\u001b[0m\u001b[1;33m\u001b[0m\u001b[1;33m\u001b[0m\u001b[0m\n\u001b[0;32m      4\u001b[0m \u001b[0mnn_graph\u001b[0m\u001b[1;33m.\u001b[0m\u001b[0mcreate_graph\u001b[0m\u001b[1;33m(\u001b[0m\u001b[1;33m)\u001b[0m \u001b[1;31m# create graph\u001b[0m\u001b[1;33m\u001b[0m\u001b[0m\n\u001b[0;32m      5\u001b[0m \u001b[1;33m\u001b[0m\u001b[0m\n",
      "\u001b[1;31mAttributeError\u001b[0m: module 'deeplearning_tf.config' has no attribute 'mnist'"
     ]
    }
   ],
   "source": [
    "nn_graph = nn_class(nn_name = nn_name[i]) # instance of nn_class\n",
    "nn_graph.create_graph() # create graph\n",
    "nn_graph.attach_saver() # attach saver tensor"
   ]
  },
  {
   "cell_type": "code",
   "execution_count": 18,
   "metadata": {},
   "outputs": [
    {
     "ename": "SyntaxError",
     "evalue": "invalid syntax (<ipython-input-18-6c3ae310ce2e>, line 2)",
     "output_type": "error",
     "traceback": [
      "\u001b[1;36m  File \u001b[1;32m\"<ipython-input-18-6c3ae310ce2e>\"\u001b[1;36m, line \u001b[1;32m2\u001b[0m\n\u001b[1;33m    def main()\u001b[0m\n\u001b[1;37m              ^\u001b[0m\n\u001b[1;31mSyntaxError\u001b[0m\u001b[1;31m:\u001b[0m invalid syntax\n"
     ]
    }
   ],
   "source": [
    "def main():\n",
    "    nn_name = ['tmp']\n",
    "\n",
    "    # cross validations\n",
    "    cv_num = 3 # cross validations default = 20 => 5% validation set\n",
    "    kfold = sklearn.model_selection.KFold(cv_num, shuffle=True, random_state=123)\n",
    "\n",
    "    for i,(train_index, valid_index) in enumerate(kfold.split(x_train_valid)):\n",
    "        \n",
    "        # start timer\n",
    "        start = datetime.datetime.now();\n",
    "        \n",
    "        # train and validation data of original images\n",
    "        x_train = x_train_valid[train_index]\n",
    "        y_train = y_train_valid[train_index]\n",
    "        x_valid = x_train_valid[valid_index]\n",
    "        y_valid = y_train_valid[valid_index]\n",
    "        \n",
    "        # create neural network graph\n",
    "        nn_graph = nn_class(nn_name = nn_name[i]) # instance of nn_class\n",
    "        nn_graph.create_graph() # create graph\n",
    "        nn_graph.attach_saver() # attach saver tensors\n",
    "        \n",
    "        # start tensorflow session\n",
    "        with tf.Session() as sess:\n",
    "            \n",
    "            # attach summaries\n",
    "            nn_graph.attach_summary(sess) \n",
    "            \n",
    "            # variable initialization of the default graph\n",
    "            sess.run(tf.global_variables_initializer()) \n",
    "        \n",
    "            # training on original data\n",
    "            nn_graph.train_graph(sess, x_train, y_train, x_valid, y_valid, n_epoch = 1.0)\n",
    "            \n",
    "            # training on augmented data\n",
    "            nn_graph.train_graph(sess, x_train, y_train, x_valid, y_valid, n_epoch = 14.0,\n",
    "                                train_on_augmented_data = True)\n",
    "\n",
    "            # save tensors and summaries of model\n",
    "            nn_graph.save_model(sess)\n",
    "            \n",
    "        # only one iteration\n",
    "        if True:\n",
    "            break;\n",
    "            \n",
    "        \n",
    "\n",
    "        print('total running time for training: ', datetime.datetime.now() - start)"
   ]
  },
  {
   "cell_type": "code",
   "execution_count": 1,
   "metadata": {},
   "outputs": [],
   "source": [
    "\n",
    "import cv2\n",
    "import numpy as np\n",
    "import matplotlib.pyplot as plt\n",
    "import time\n",
    "%matplotlib inline"
   ]
  },
  {
   "cell_type": "code",
   "execution_count": 199,
   "metadata": {},
   "outputs": [],
   "source": [
    "class IMG():\n",
    "    def __init__(self,r,g,b,imgfor='RGB',img=None):\n",
    "        \n",
    "        if img is None:\n",
    "            img = np.ones((200,200,3))\n",
    "        img[:,:,0] = img[:,:,0]*r\n",
    "        img[:,:,1] = img[:,:,1]*g\n",
    "        img[:,:,2] = img[:,:,2]*b\n",
    "        self._f = imgfor\n",
    "        self.img = img\n",
    "        \n",
    "    def imgRGB(self,r,g,b,img=None):\n",
    "        if img is None:\n",
    "            img = np.ones((200,200,3))\n",
    "        img[:,:,0] = img[:,:,0]*r\n",
    "        img[:,:,1] = img[:,:,1]*g\n",
    "        img[:,:,2] = img[:,:,2]*b\n",
    "        self.img = img\n",
    "        return self\n",
    "    \n",
    "    def val(self):\n",
    "        return(self.img[0,0,:])\n",
    "    \n",
    "    def RGB2HSV(self):\n",
    "        \n",
    "        assert self._f == 'RGB' , 'origin img is not RGB'      \n",
    "        \n",
    "        self.img = np.uint8(cv2.cvtColor(np.uint8(self.img),cv2.COLOR_RGB2HSV))\n",
    "        self._f = 'HSV'\n",
    "        \n",
    "    def HSV2RGB(self, ret=False,in_=None): \n",
    "        \n",
    "        \n",
    "        assert self._f == 'HSV' , 'origin img is not HSV'\n",
    "        self.img = np.uint8(cv2.cvtColor(np.uint8(self.img),cv2.COLOR_HSV2RGB))\n",
    "        self._f  = 'RGB'\n",
    "    def addHue(self,val,ret=False):\n",
    "        if self._f == 'RGB':\n",
    "            self.RGB2HSV()\n",
    "            \n",
    "            self.img[:,:,0]= self.img[:,:,0] + val\n",
    "            #if self.img[0,0,0]>255:\n",
    "            #    print('***',self.val())\n",
    "            #    self.img[:,:,0] = 0\n",
    "            self.HSV2RGB()\n",
    "        elif self._f == 'HSV':\n",
    "            self.img[:,:,0]= self.img[:,:,0] + val\n",
    "    def imshow(self):\n",
    "        plt.imshow(self.img)\n",
    "        \n",
    "    def showHSV(self):\n",
    "        if self._f == 'RGB':\n",
    "            img = cv2.cvtColor(np.uint8(self.img.copy()),cv2.COLOR_RGB2HSV)\n",
    "            return img[0,0,:]\n",
    "        elif self._f == 'HSV':\n",
    "            return self.val()\n",
    "    \n",
    "    def show(self):\n",
    "        while True:\n",
    "            cv2.imshow('image',self.img)\n",
    "            k = cv2.waitKey()\n",
    "            if k == ord('q'):\n",
    "                cv2.destroyAllWindows()\n",
    "                break\n",
    "    def format(self):\n",
    "        print(self._f)\n",
    "        return self._f\n"
   ]
  },
  {
   "cell_type": "code",
   "execution_count": null,
   "metadata": {},
   "outputs": [],
   "source": []
  },
  {
   "cell_type": "code",
   "execution_count": 200,
   "metadata": {},
   "outputs": [
    {
     "name": "stdout",
     "output_type": "stream",
     "text": [
      "[255.   0.   0.] [  0. 255.   0.] [  0.   0. 255.] [  0 255 255] [ 60 255 255] [120 255 255]\n",
      "[  0 255 255] [ 60 255 255] [120 255 255] [  0 255 255] [ 60 255 255] [120 255 255]\n",
      "[250 255 255] [ 54 255 255] [114 255 255] [250 255 255] [ 54 255 255] [114 255 255]\n",
      "[  0 255  85] [ 51 255   0] [  0  51 255] [ 70 255 255] [ 54 255 255] [114 255 255]\n"
     ]
    }
   ],
   "source": [
    "R = IMG(255,0,0)\n",
    "G = IMG(0,255,0)\n",
    "B = IMG(0,0,255)\n",
    "print(R.val(),G.val(),B.val(),R.showHSV(),G.showHSV(),B.showHSV())\n",
    "#R.addHue(10)\n",
    "#G.addHue(10)\n",
    "#B.addHue(10)\n",
    "#print(R.val(),G.val(),B.val(),R.showHSV(),G.showHSV(),B.showHSV())\n",
    "R.RGB2HSV()\n",
    "G.RGB2HSV()\n",
    "B.RGB2HSV()\n",
    "print(R.val(),G.val(),B.val(),R.showHSV(),G.showHSV(),B.showHSV())\n",
    "R.addHue(250)\n",
    "G.addHue(250)\n",
    "B.addHue(250)\n",
    "print(R.val(),G.val(),B.val(),R.showHSV(),G.showHSV(),B.showHSV())\n",
    "R.HSV2RGB()\n",
    "G.HSV2RGB()\n",
    "B.HSV2RGB()\n",
    "print(R.val(),G.val(),B.val(),R.showHSV(),G.showHSV(),B.showHSV())"
   ]
  },
  {
   "cell_type": "code",
   "execution_count": 247,
   "metadata": {},
   "outputs": [
    {
     "name": "stdout",
     "output_type": "stream",
     "text": [
      "[255   0   0] [255   0 136] [136 255   0] [  0 255 255] [164 255 255] [ 44 255 255]\n"
     ]
    },
    {
     "data": {
      "image/png": "[encoded data removed]",
      "text/plain": [
       "<Figure size 432x288 with 1 Axes>"
      ]
     },
     "metadata": {},
     "output_type": "display_data"
    }
   ],
   "source": [
    "R.addHue(10)\n",
    "G.addHue(10)\n",
    "B.addHue(10)\n",
    "print(R.val(),G.val(),B.val(),R.showHSV(),G.showHSV(),B.showHSV())\n",
    "R.imshow()\n",
    "G.imshow()\n",
    "B.imshow()\n"
   ]
  },
  {
   "cell_type": "code",
   "execution_count": 36,
   "metadata": {},
   "outputs": [],
   "source": [
    "R.show()"
   ]
  },
  {
   "cell_type": "code",
   "execution_count": 31,
   "metadata": {},
   "outputs": [],
   "source": [
    "cv2.destroyAllWindows()"
   ]
  },
  {
   "cell_type": "code",
   "execution_count": 257,
   "metadata": {},
   "outputs": [
    {
     "name": "stdout",
     "output_type": "stream",
     "text": [
      "[255   0   0]\n"
     ]
    }
   ],
   "source": [
    "\n",
    "u8 = np.uint8\n",
    "print(a[0,0,:])"
   ]
  },
  {
   "cell_type": "code",
   "execution_count": 391,
   "metadata": {},
   "outputs": [],
   "source": [
    "import random\n",
    "rand = random.random"
   ]
  },
  {
   "cell_type": "code",
   "execution_count": null,
   "metadata": {},
   "outputs": [],
   "source": [
    "def drawboox(msg):\n",
    "    np.ones()\n",
    "    "
   ]
  },
  {
   "cell_type": "code",
   "execution_count": 423,
   "metadata": {},
   "outputs": [
    {
     "name": "stdout",
     "output_type": "stream",
     "text": [
      "[ 39 255 255]\n",
      "[ 99 255 255]\n",
      "[110 255 255]\n",
      "[ 49 255 255]\n",
      "[153 255 255]\n",
      "[174 255 255]\n",
      "[149 255 255]\n",
      "[ 92 255 255]\n",
      "[ 17 255 255]\n",
      "[ 93 255 255]\n",
      "[ 17 255 255]\n",
      "[105 255 255]\n",
      "[113 255 255]\n",
      "[ 34 255 255]\n",
      "[ 25 255 255]\n",
      "[101 255 255]\n",
      "[ 65 255 255]\n",
      "[105 255 255]\n",
      "[ 17 255 255]\n",
      "[ 31 255 255]\n",
      "[173 255 255]\n",
      "[ 10 255 255]\n",
      "[138 255 255]\n",
      "[  1 255 255]\n",
      "[119 255 255]\n",
      "[  0 255 255]\n",
      "[109 255 255]\n",
      "[160 255 255]\n",
      "[ 78 255 255]\n",
      "[160 255 255]\n",
      "[ 47 255 255]\n",
      "[161 255 255]\n",
      "[167 255 255]\n",
      "[163 255 255]\n",
      "[130 255 255]\n",
      "[133 255 255]\n",
      "[160 255 255]\n",
      "[ 48 255 255]\n",
      "[ 78 255 255]\n",
      "[ 58 255 255]\n",
      "[164 255 255]\n",
      "[111 255 255]\n",
      "[135 255 255]\n",
      "[ 20 255 255]\n",
      "[ 22 255 255]\n",
      "[ 71 255 255]\n",
      "[159 255 255]\n",
      "[ 20 255 255]\n",
      "[ 91 255 255]\n",
      "[  0 255 255]\n",
      "[  0 255 255]\n",
      "[ 93 255 255]\n",
      "[ 15 255 255]\n",
      "[125 255 255]\n",
      "[  6 255 255]\n",
      "[ 67 255 255]\n",
      "[  2 255 255]\n",
      "[164 255 255]\n",
      "[132 255 255]\n",
      "[ 55 255 255]\n",
      "[ 38 255 255]\n",
      "[  1 255 255]\n",
      "[ 16 255 255]\n",
      "[ 76 255 255]\n",
      "[ 84 255 255]\n",
      "[113 255 255]\n",
      "[147 255 255]\n",
      "[156 255 255]\n",
      "[ 93 255 255]\n",
      "[ 47 255 255]\n",
      "[117 255 255]\n",
      "[ 78 255 255]\n",
      "[ 63 255 255]\n",
      "[ 97 255 255]\n",
      "[ 11 255 255]\n",
      "[ 53 255 255]\n",
      "[132 255 255]\n",
      "[ 85 255 255]\n",
      "[  1 255 255]\n",
      "[ 96 255 255]\n",
      "[ 92 255 255]\n",
      "[110 255 255]\n",
      "[ 56 255 255]\n",
      "[ 39 255 255]\n",
      "[ 33 255 255]\n",
      "[ 50 255 255]\n",
      "[ 70 255 255]\n",
      "[103 255 255]\n",
      "[122 255 255]\n",
      "[103 255 255]\n",
      "[  0 255 255]\n",
      "[ 94 255 255]\n",
      "[159 255 255]\n",
      "[ 62 255 255]\n",
      "[103 255 255]\n",
      "[  3 255 255]\n",
      "[ 88 255 255]\n",
      "[138 255 255]\n",
      "[ 46 255 255]\n",
      "[ 25 255 255]\n",
      "[172 255 255]\n",
      "[ 28 255 255]\n",
      "[143 255 255]\n",
      "[ 29 255 255]\n",
      "[ 13 255 255]\n",
      "[ 82 255 255]\n",
      "[ 97 255 255]\n",
      "[149 255 255]\n",
      "[ 93 255 255]\n",
      "[110 255 255]\n",
      "[107 255 255]\n",
      "[ 32 255 255]\n",
      "[ 44 255 255]\n",
      "[  6 255 255]\n",
      "[ 46 255 255]\n",
      "[110 255 255]\n",
      "[ 90 255 255]\n",
      "[ 15 255 255]\n",
      "[ 88 255 255]\n",
      "[ 25 255 255]\n",
      "[ 36 255 255]\n",
      "[ 41 255 255]\n",
      "[ 76 255 255]\n",
      "[172 255 255]\n",
      "[ 27 255 255]\n",
      "[130 255 255]\n",
      "[126 255 255]\n",
      "[168 255 255]\n",
      "[ 62 255 255]\n",
      "[ 35 255 255]\n",
      "[169 255 255]\n",
      "[174 255 255]\n",
      "[ 20 255 255]\n",
      "[ 90 255 255]\n",
      "[175 255 255]\n",
      "[134 255 255]\n",
      "[154 255 255]\n",
      "[131 255 255]\n",
      "[ 13 255 255]\n",
      "[ 40 255 255]\n",
      "[ 87 255 255]\n",
      "[167 255 255]\n",
      "[ 88 255 255]\n",
      "[ 96 255 255]\n",
      "[ 97 255 255]\n",
      "[ 37 255 255]\n",
      "[139 255 255]\n",
      "[ 50 255 255]\n",
      "[160 255 255]\n",
      "[ 94 255 255]\n",
      "[176 255 255]\n",
      "[123 255 255]\n",
      "[ 40 255 255]\n",
      "[ 98 255 255]\n",
      "[167 255 255]\n",
      "[ 93 255 255]\n",
      "[ 46 255 255]\n",
      "[132 255 255]\n",
      "[  4 255 255]\n",
      "[ 70 255 255]\n",
      "[ 54 255 255]\n",
      "[  0 255 255]\n",
      "[ 30 255 255]\n",
      "[ 96 255 255]\n",
      "[ 41 255 255]\n",
      "[ 46 255 255]\n",
      "[ 55 255 255]\n",
      "[ 67 255 255]\n",
      "[150 255 255]\n",
      "[ 62 255 255]\n",
      "[167 255 255]\n",
      "[ 30 255 255]\n"
     ]
    }
   ],
   "source": [
    "while 1:\n",
    "    ind = int(rand()*180)\n",
    "    a = R.img\n",
    "    a= cv2.cvtColor(u8(a),cv2.COLOR_RGB2HSV)\n",
    "    a[:,:,0] = a[:,:,0] + ind\n",
    "    print(a[0,0,:])\n",
    "    a = cv2.cvtColor(u8(a),cv2.COLOR_HSV2RGB)\n",
    "    cv2.imshow('a',a)\n",
    "    if cv2.waitKey(60) == ord('q'):\n",
    "        cv2.destroyAllWindows()\n",
    "        break\n",
    "        "
   ]
  },
  {
   "cell_type": "code",
   "execution_count": 179,
   "metadata": {},
   "outputs": [
    {
     "data": {
      "text/plain": [
       "<matplotlib.image.AxesImage at 0x2138411ae10>"
      ]
     },
     "execution_count": 179,
     "metadata": {},
     "output_type": "execute_result"
    },
    {
     "data": {
      "image/png": "[encoded data removed]",
      "text/plain": [
       "<Figure size 432x288 with 1 Axes>"
      ]
     },
     "metadata": {},
     "output_type": "display_data"
    }
   ],
   "source": [
    "plt.imshow(R.img)"
   ]
  },
  {
   "cell_type": "code",
   "execution_count": null,
   "metadata": {},
   "outputs": [],
   "source": []
  }
 ],
 "metadata": {
  "kernelspec": {
   "display_name": "Python 3",
   "language": "python",
   "name": "python3"
  },
  "language_info": {
   "codemirror_mode": {
    "name": "ipython",
    "version": 3
   },
   "file_extension": ".py",
   "mimetype": "text/x-python",
   "name": "python",
   "nbconvert_exporter": "python",
   "pygments_lexer": "ipython3",
   "version": "3.6.4"
  }
 },
 "nbformat": 4,
 "nbformat_minor": 2
}
